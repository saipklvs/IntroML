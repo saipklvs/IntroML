{
 "cells": [
  {
   "cell_type": "markdown",
   "id": "6eb5e589",
   "metadata": {
    "papermill": {
     "duration": 0.010188,
     "end_time": "2021-08-15T04:03:28.732233",
     "exception": false,
     "start_time": "2021-08-15T04:03:28.722045",
     "status": "completed"
    },
    "tags": []
   },
   "source": [
    "**This notebook is an exercise in the [Introduction to Machine Learning](https://www.kaggle.com/learn/intro-to-machine-learning) course.  You can reference the tutorial at [this link](https://www.kaggle.com/dansbecker/underfitting-and-overfitting).**\n",
    "\n",
    "---\n"
   ]
  },
  {
   "cell_type": "markdown",
   "id": "36899a70",
   "metadata": {
    "papermill": {
     "duration": 0.00894,
     "end_time": "2021-08-15T04:03:28.750675",
     "exception": false,
     "start_time": "2021-08-15T04:03:28.741735",
     "status": "completed"
    },
    "tags": []
   },
   "source": [
    "## Recap\n",
    "You've built your first model, and now it's time to optimize the size of the tree to make better predictions. Run this cell to set up your coding environment where the previous step left off."
   ]
  },
  {
   "cell_type": "code",
   "execution_count": 1,
   "id": "c22fac68",
   "metadata": {
    "execution": {
     "iopub.execute_input": "2021-08-15T04:03:28.774156Z",
     "iopub.status.busy": "2021-08-15T04:03:28.773011Z",
     "iopub.status.idle": "2021-08-15T04:03:30.275385Z",
     "shell.execute_reply": "2021-08-15T04:03:30.276083Z",
     "shell.execute_reply.started": "2021-08-15T03:55:10.570196Z"
    },
    "papermill": {
     "duration": 1.516447,
     "end_time": "2021-08-15T04:03:30.276486",
     "exception": false,
     "start_time": "2021-08-15T04:03:28.760039",
     "status": "completed"
    },
    "tags": []
   },
   "outputs": [
    {
     "name": "stdout",
     "output_type": "stream",
     "text": [
      "Validation MAE: 29,653\n",
      "\n",
      "Setup complete\n"
     ]
    }
   ],
   "source": [
    "# Code you have previously used to load data\n",
    "import pandas as pd\n",
    "from sklearn.metrics import mean_absolute_error\n",
    "from sklearn.model_selection import train_test_split\n",
    "from sklearn.tree import DecisionTreeRegressor\n",
    "\n",
    "\n",
    "# Path of the file to read\n",
    "iowa_file_path = '../input/home-data-for-ml-course/train.csv'\n",
    "\n",
    "home_data = pd.read_csv(iowa_file_path)\n",
    "# Create target object and call it y\n",
    "y = home_data.SalePrice\n",
    "# Create X\n",
    "features = ['LotArea', 'YearBuilt', '1stFlrSF', '2ndFlrSF', 'FullBath', 'BedroomAbvGr', 'TotRmsAbvGrd']\n",
    "X = home_data[features]\n",
    "\n",
    "# Split into validation and training data\n",
    "train_X, val_X, train_y, val_y = train_test_split(X, y, random_state=1)\n",
    "\n",
    "# Specify Model\n",
    "iowa_model = DecisionTreeRegressor(random_state=1)\n",
    "# Fit Model\n",
    "iowa_model.fit(train_X, train_y)\n",
    "\n",
    "# Make validation predictions and calculate mean absolute error\n",
    "val_predictions = iowa_model.predict(val_X)\n",
    "val_mae = mean_absolute_error(val_predictions, val_y)\n",
    "print(\"Validation MAE: {:,.0f}\".format(val_mae))\n",
    "\n",
    "# Set up code checking\n",
    "from learntools.core import binder\n",
    "binder.bind(globals())\n",
    "from learntools.machine_learning.ex5 import *\n",
    "print(\"\\nSetup complete\")"
   ]
  },
  {
   "cell_type": "markdown",
   "id": "0b5dfed9",
   "metadata": {
    "papermill": {
     "duration": 0.009206,
     "end_time": "2021-08-15T04:03:30.296168",
     "exception": false,
     "start_time": "2021-08-15T04:03:30.286962",
     "status": "completed"
    },
    "tags": []
   },
   "source": [
    "# Exercises\n",
    "You could write the function `get_mae` yourself. For now, we'll supply it. This is the same function you read about in the previous lesson. Just run the cell below."
   ]
  },
  {
   "cell_type": "code",
   "execution_count": 2,
   "id": "905224c1",
   "metadata": {
    "execution": {
     "iopub.execute_input": "2021-08-15T04:03:30.322357Z",
     "iopub.status.busy": "2021-08-15T04:03:30.321702Z",
     "iopub.status.idle": "2021-08-15T04:03:30.323842Z",
     "shell.execute_reply": "2021-08-15T04:03:30.324285Z",
     "shell.execute_reply.started": "2021-08-15T03:55:17.320099Z"
    },
    "papermill": {
     "duration": 0.018167,
     "end_time": "2021-08-15T04:03:30.324476",
     "exception": false,
     "start_time": "2021-08-15T04:03:30.306309",
     "status": "completed"
    },
    "tags": []
   },
   "outputs": [],
   "source": [
    "def get_mae(max_leaf_nodes, train_X, val_X, train_y, val_y):\n",
    "    model = DecisionTreeRegressor(max_leaf_nodes=max_leaf_nodes, random_state=0)\n",
    "    model.fit(train_X, train_y)\n",
    "    preds_val = model.predict(val_X)\n",
    "    mae = mean_absolute_error(val_y, preds_val)\n",
    "    return(mae)"
   ]
  },
  {
   "cell_type": "markdown",
   "id": "314503fc",
   "metadata": {
    "papermill": {
     "duration": 0.009713,
     "end_time": "2021-08-15T04:03:30.344211",
     "exception": false,
     "start_time": "2021-08-15T04:03:30.334498",
     "status": "completed"
    },
    "tags": []
   },
   "source": [
    "## Step 1: Compare Different Tree Sizes\n",
    "Write a loop that tries the following values for *max_leaf_nodes* from a set of possible values.\n",
    "\n",
    "Call the *get_mae* function on each value of max_leaf_nodes. Store the output in some way that allows you to select the value of `max_leaf_nodes` that gives the most accurate model on your data."
   ]
  },
  {
   "cell_type": "code",
   "execution_count": 3,
   "id": "3735520d",
   "metadata": {
    "execution": {
     "iopub.execute_input": "2021-08-15T04:03:30.368723Z",
     "iopub.status.busy": "2021-08-15T04:03:30.367990Z",
     "iopub.status.idle": "2021-08-15T04:03:30.431052Z",
     "shell.execute_reply": "2021-08-15T04:03:30.430381Z",
     "shell.execute_reply.started": "2021-08-15T03:59:37.533366Z"
    },
    "papermill": {
     "duration": 0.076768,
     "end_time": "2021-08-15T04:03:30.431200",
     "exception": false,
     "start_time": "2021-08-15T04:03:30.354432",
     "status": "completed"
    },
    "tags": []
   },
   "outputs": [
    {
     "name": "stdout",
     "output_type": "stream",
     "text": [
      "Max leaf nodes: 5  \t\t Mean Absolute Error:  35044\n",
      "Max leaf nodes: 25  \t\t Mean Absolute Error:  29016\n",
      "Max leaf nodes: 50  \t\t Mean Absolute Error:  27405\n",
      "Max leaf nodes: 100  \t\t Mean Absolute Error:  27282\n",
      "Max leaf nodes: 250  \t\t Mean Absolute Error:  27893\n",
      "Max leaf nodes: 500  \t\t Mean Absolute Error:  29454\n"
     ]
    },
    {
     "data": {
      "application/javascript": [
       "parent.postMessage({\"jupyterEvent\": \"custom.exercise_interaction\", \"data\": {\"outcomeType\": 1, \"valueTowardsCompletion\": 0.5, \"interactionType\": 1, \"questionType\": 1, \"questionId\": \"1_BestTreeSize\", \"learnToolsVersion\": \"0.3.4\", \"failureMessage\": \"\", \"exceptionClass\": \"\", \"trace\": \"\"}}, \"*\")"
      ],
      "text/plain": [
       "<IPython.core.display.Javascript object>"
      ]
     },
     "metadata": {},
     "output_type": "display_data"
    },
    {
     "data": {
      "text/markdown": [
       "<span style=\"color:#33cc33\">Correct</span>"
      ],
      "text/plain": [
       "Correct"
      ]
     },
     "metadata": {},
     "output_type": "display_data"
    }
   ],
   "source": [
    "candidate_max_leaf_nodes = [5, 25, 50, 100, 250, 500]\n",
    "# Write loop to find the ideal tree size from candidate_max_leaf_nodes\n",
    "best_leaf_node = 100000\n",
    "best_node = -1\n",
    "for max_leaf_nodes in candidate_max_leaf_nodes:\n",
    "    my_mae = get_mae(max_leaf_nodes, train_X, val_X, train_y, val_y)\n",
    "    if my_mae < best_leaf_node:\n",
    "        best_node =  max_leaf_nodes\n",
    "        best_leaf_node = my_mae\n",
    "    print(\"Max leaf nodes: %d  \\t\\t Mean Absolute Error:  %d\" %(max_leaf_nodes, my_mae))\n",
    "\n",
    "# Store the best value of max_leaf_nodes (it will be either 5, 25, 50, 100, 250 or 500)\n",
    "best_tree_size = best_node\n",
    "\n",
    "# Check your answer\n",
    "step_1.check()"
   ]
  },
  {
   "cell_type": "code",
   "execution_count": 4,
   "id": "23fd2b9c",
   "metadata": {
    "execution": {
     "iopub.execute_input": "2021-08-15T04:03:30.458272Z",
     "iopub.status.busy": "2021-08-15T04:03:30.457590Z",
     "iopub.status.idle": "2021-08-15T04:03:30.461233Z",
     "shell.execute_reply": "2021-08-15T04:03:30.460703Z"
    },
    "papermill": {
     "duration": 0.019087,
     "end_time": "2021-08-15T04:03:30.461396",
     "exception": false,
     "start_time": "2021-08-15T04:03:30.442309",
     "status": "completed"
    },
    "tags": []
   },
   "outputs": [],
   "source": [
    "# The lines below will show you a hint or the solution.\n",
    "# step_1.hint() \n",
    "# step_1.solution()"
   ]
  },
  {
   "cell_type": "markdown",
   "id": "b5f0d6c3",
   "metadata": {
    "papermill": {
     "duration": 0.01087,
     "end_time": "2021-08-15T04:03:30.483712",
     "exception": false,
     "start_time": "2021-08-15T04:03:30.472842",
     "status": "completed"
    },
    "tags": []
   },
   "source": [
    "## Step 2: Fit Model Using All Data\n",
    "You know the best tree size. If you were going to deploy this model in practice, you would make it even more accurate by using all of the data and keeping that tree size.  That is, you don't need to hold out the validation data now that you've made all your modeling decisions."
   ]
  },
  {
   "cell_type": "code",
   "execution_count": 5,
   "id": "281b1b52",
   "metadata": {
    "execution": {
     "iopub.execute_input": "2021-08-15T04:03:30.515051Z",
     "iopub.status.busy": "2021-08-15T04:03:30.514321Z",
     "iopub.status.idle": "2021-08-15T04:03:30.529363Z",
     "shell.execute_reply": "2021-08-15T04:03:30.528746Z",
     "shell.execute_reply.started": "2021-08-15T04:03:03.817754Z"
    },
    "papermill": {
     "duration": 0.03447,
     "end_time": "2021-08-15T04:03:30.529499",
     "exception": false,
     "start_time": "2021-08-15T04:03:30.495029",
     "status": "completed"
    },
    "tags": []
   },
   "outputs": [
    {
     "data": {
      "application/javascript": [
       "parent.postMessage({\"jupyterEvent\": \"custom.exercise_interaction\", \"data\": {\"outcomeType\": 1, \"valueTowardsCompletion\": 0.5, \"interactionType\": 1, \"questionType\": 2, \"questionId\": \"2_FitModelWithAllData\", \"learnToolsVersion\": \"0.3.4\", \"failureMessage\": \"\", \"exceptionClass\": \"\", \"trace\": \"\"}}, \"*\")"
      ],
      "text/plain": [
       "<IPython.core.display.Javascript object>"
      ]
     },
     "metadata": {},
     "output_type": "display_data"
    },
    {
     "data": {
      "text/markdown": [
       "<span style=\"color:#33cc33\">Correct</span>"
      ],
      "text/plain": [
       "Correct"
      ]
     },
     "metadata": {},
     "output_type": "display_data"
    }
   ],
   "source": [
    "# Fill in argument to make optimal size and uncomment\n",
    "final_model = DecisionTreeRegressor(random_state=1, max_leaf_nodes=best_tree_size)\n",
    "\n",
    "# fit the final model and uncomment the next two lines\n",
    "final_model.fit(X, y)\n",
    "\n",
    "# Check your answer\n",
    "step_2.check()"
   ]
  },
  {
   "cell_type": "code",
   "execution_count": 6,
   "id": "8004a7b2",
   "metadata": {
    "execution": {
     "iopub.execute_input": "2021-08-15T04:03:30.557229Z",
     "iopub.status.busy": "2021-08-15T04:03:30.556597Z",
     "iopub.status.idle": "2021-08-15T04:03:30.561136Z",
     "shell.execute_reply": "2021-08-15T04:03:30.560512Z",
     "shell.execute_reply.started": "2021-08-15T04:02:49.283562Z"
    },
    "papermill": {
     "duration": 0.019793,
     "end_time": "2021-08-15T04:03:30.561305",
     "exception": false,
     "start_time": "2021-08-15T04:03:30.541512",
     "status": "completed"
    },
    "tags": []
   },
   "outputs": [],
   "source": [
    "# step_2.hint()\n",
    "# step_2.solution()"
   ]
  },
  {
   "cell_type": "markdown",
   "id": "46a30d84",
   "metadata": {
    "papermill": {
     "duration": 0.011903,
     "end_time": "2021-08-15T04:03:30.585696",
     "exception": false,
     "start_time": "2021-08-15T04:03:30.573793",
     "status": "completed"
    },
    "tags": []
   },
   "source": [
    "You've tuned this model and improved your results. But we are still using Decision Tree models, which are not very sophisticated by modern machine learning standards. In the next step you will learn to use Random Forests to improve your models even more.\n",
    "\n",
    "# Keep Going\n",
    "\n",
    "You are ready for **[Random Forests](https://www.kaggle.com/dansbecker/random-forests).**\n"
   ]
  },
  {
   "cell_type": "markdown",
   "id": "5131aa3d",
   "metadata": {
    "papermill": {
     "duration": 0.01226,
     "end_time": "2021-08-15T04:03:30.610236",
     "exception": false,
     "start_time": "2021-08-15T04:03:30.597976",
     "status": "completed"
    },
    "tags": []
   },
   "source": [
    "---\n",
    "\n",
    "\n",
    "\n",
    "\n",
    "*Have questions or comments? Visit the [Learn Discussion forum](https://www.kaggle.com/learn-forum/161285) to chat with other Learners.*"
   ]
  }
 ],
 "metadata": {
  "kernelspec": {
   "display_name": "Python 3",
   "language": "python",
   "name": "python3"
  },
  "language_info": {
   "codemirror_mode": {
    "name": "ipython",
    "version": 3
   },
   "file_extension": ".py",
   "mimetype": "text/x-python",
   "name": "python",
   "nbconvert_exporter": "python",
   "pygments_lexer": "ipython3",
   "version": "3.7.10"
  },
  "papermill": {
   "default_parameters": {},
   "duration": 11.609279,
   "end_time": "2021-08-15T04:03:31.433140",
   "environment_variables": {},
   "exception": null,
   "input_path": "__notebook__.ipynb",
   "output_path": "__notebook__.ipynb",
   "parameters": {},
   "start_time": "2021-08-15T04:03:19.823861",
   "version": "2.3.3"
  }
 },
 "nbformat": 4,
 "nbformat_minor": 5
}
